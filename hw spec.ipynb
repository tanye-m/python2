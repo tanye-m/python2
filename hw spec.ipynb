{
 "cells": [
  {
   "cell_type": "code",
   "execution_count": 1,
   "metadata": {
    "scrolled": false
   },
   "outputs": [
    {
     "data": {
      "text/plain": [
       "{71.0371: 'A',\n",
       " 103.0092: 'C',\n",
       " 115.0269: 'D',\n",
       " 129.0426: 'E',\n",
       " 147.0684: 'F',\n",
       " 57.0215: 'G',\n",
       " 137.0589: 'H',\n",
       " 113.0841: 'L',\n",
       " 128.095: 'K',\n",
       " 131.0405: 'M',\n",
       " 114.0429: 'N',\n",
       " 97.0528: 'P',\n",
       " 128.0586: 'Q',\n",
       " 156.1011: 'R',\n",
       " 87.032: 'S',\n",
       " 101.0477: 'T',\n",
       " 99.0684: 'V',\n",
       " 186.0793: 'W',\n",
       " 163.0633: 'Y'}"
      ]
     },
     "execution_count": 1,
     "metadata": {},
     "output_type": "execute_result"
    }
   ],
   "source": [
    "mono_mass = {'A':71.03711, 'C':103.00919, 'D':115.02694, 'E':129.04259, \n",
    "'F':147.06841, 'G':57.02146, 'H':137.05891, 'I':113.08406, \n",
    "'K':128.09496, 'L':113.08406, 'M':131.04049, 'N':114.04293, \n",
    "'P':97.05276, 'Q':128.05858, 'R':156.10111, 'S':87.03203, \n",
    "'T':101.04768, 'V':99.06841, 'W':186.07931, 'Y':163.06333}\n",
    "\n",
    "mono_mass_inverted = {}\n",
    "\n",
    "for key, value in mono_mass.items():\n",
    "    mono_mass_inverted[round(value, 4)] = key\n",
    "    \n",
    "mono_mass_inverted"
   ]
  },
  {
   "cell_type": "code",
   "execution_count": 2,
   "metadata": {},
   "outputs": [],
   "source": [
    "L = [3524.8542, 3710.9335, 3841.974, 3970.0326, 4057.0646]\n",
    "L = [round(a - b, 4) for a, b in zip(L[1:], L[:-1])]"
   ]
  },
  {
   "cell_type": "code",
   "execution_count": 3,
   "metadata": {},
   "outputs": [
    {
     "data": {
      "text/plain": [
       "'WMQS'"
      ]
     },
     "execution_count": 3,
     "metadata": {},
     "output_type": "execute_result"
    }
   ],
   "source": [
    "prot = [mono_mass_inverted[i] for i in L]\n",
    "''.join(prot)"
   ]
  },
  {
   "cell_type": "markdown",
   "metadata": {},
   "source": [
    " "
   ]
  },
  {
   "cell_type": "code",
   "execution_count": 4,
   "metadata": {},
   "outputs": [],
   "source": [
    "with open('./files/rosalind_spec.txt', 'r') as f:\n",
    "    L = [float(i) for i in f.read().split()]\n",
    "    \n",
    "L = [round(a - b, 4) for a, b in zip(L[1:], L[:-1])]"
   ]
  },
  {
   "cell_type": "code",
   "execution_count": 5,
   "metadata": {
    "scrolled": false
   },
   "outputs": [
    {
     "data": {
      "text/plain": [
       "'MKQSLVAFMYCDFEDYQTHLTSNASYMECAELNCANDWEPFDMTWLDGLHGRYFQLWSQLPRWMKPMSMGRLPQLLRHQGTC'"
      ]
     },
     "execution_count": 5,
     "metadata": {},
     "output_type": "execute_result"
    }
   ],
   "source": [
    "prot = [mono_mass_inverted[i] for i in L]\n",
    "''.join(prot)"
   ]
  }
 ],
 "metadata": {
  "kernelspec": {
   "display_name": "Python 3",
   "language": "python",
   "name": "python3"
  },
  "language_info": {
   "codemirror_mode": {
    "name": "ipython",
    "version": 3
   },
   "file_extension": ".py",
   "mimetype": "text/x-python",
   "name": "python",
   "nbconvert_exporter": "python",
   "pygments_lexer": "ipython3",
   "version": "3.7.4"
  }
 },
 "nbformat": 4,
 "nbformat_minor": 4
}
